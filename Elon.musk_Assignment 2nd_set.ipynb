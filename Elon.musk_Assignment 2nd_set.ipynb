{
 "cells": [
  {
   "cell_type": "code",
   "execution_count": 1,
   "id": "9b89b1d7",
   "metadata": {},
   "outputs": [],
   "source": [
    "import numpy as np\n",
    "import pandas as pd\n",
    "import matplotlib.pyplot as plt\n",
    "import string\n",
    "import spacy\n",
    "import re\n",
    "from nltk.corpus import stopwords\n",
    "from textblob import TextBlob\n",
    "from matplotlib.pyplot import imread\n",
    "from wordcloud import WordCloud, STOPWORDS\n",
    "%matplotlib inline"
   ]
  },
  {
   "cell_type": "code",
   "execution_count": 2,
   "id": "bf836327",
   "metadata": {},
   "outputs": [
    {
     "data": {
      "text/html": [
       "<div>\n",
       "<style scoped>\n",
       "    .dataframe tbody tr th:only-of-type {\n",
       "        vertical-align: middle;\n",
       "    }\n",
       "\n",
       "    .dataframe tbody tr th {\n",
       "        vertical-align: top;\n",
       "    }\n",
       "\n",
       "    .dataframe thead th {\n",
       "        text-align: right;\n",
       "    }\n",
       "</style>\n",
       "<table border=\"1\" class=\"dataframe\">\n",
       "  <thead>\n",
       "    <tr style=\"text-align: right;\">\n",
       "      <th></th>\n",
       "      <th>Unnamed: 0</th>\n",
       "      <th>Text</th>\n",
       "    </tr>\n",
       "  </thead>\n",
       "  <tbody>\n",
       "    <tr>\n",
       "      <th>0</th>\n",
       "      <td>1</td>\n",
       "      <td>@kunalb11 Im an alien</td>\n",
       "    </tr>\n",
       "    <tr>\n",
       "      <th>1</th>\n",
       "      <td>2</td>\n",
       "      <td>@ID_AA_Carmack Ray tracing on Cyberpunk with H...</td>\n",
       "    </tr>\n",
       "    <tr>\n",
       "      <th>2</th>\n",
       "      <td>3</td>\n",
       "      <td>@joerogan @Spotify Great interview!</td>\n",
       "    </tr>\n",
       "    <tr>\n",
       "      <th>3</th>\n",
       "      <td>4</td>\n",
       "      <td>@gtera27 Doge is underestimated</td>\n",
       "    </tr>\n",
       "    <tr>\n",
       "      <th>4</th>\n",
       "      <td>5</td>\n",
       "      <td>@teslacn Congratulations Tesla China for amazi...</td>\n",
       "    </tr>\n",
       "    <tr>\n",
       "      <th>5</th>\n",
       "      <td>6</td>\n",
       "      <td>Happy New Year of the Ox! https://t.co/9WFKMYu2oj</td>\n",
       "    </tr>\n",
       "    <tr>\n",
       "      <th>6</th>\n",
       "      <td>7</td>\n",
       "      <td>Frodo was the underdoge,\\nAll thought he would...</td>\n",
       "    </tr>\n",
       "    <tr>\n",
       "      <th>7</th>\n",
       "      <td>8</td>\n",
       "      <td>@OwenSparks_ @flcnhvy @anonyx10 Haha thanks :)</td>\n",
       "    </tr>\n",
       "    <tr>\n",
       "      <th>8</th>\n",
       "      <td>9</td>\n",
       "      <td>@flcnhvy @anonyx10 Indeed! Tweets definitely d...</td>\n",
       "    </tr>\n",
       "    <tr>\n",
       "      <th>9</th>\n",
       "      <td>10</td>\n",
       "      <td>The most entertaining outcome is the most likely</td>\n",
       "    </tr>\n",
       "  </tbody>\n",
       "</table>\n",
       "</div>"
      ],
      "text/plain": [
       "   Unnamed: 0                                               Text\n",
       "0           1                             @kunalb11 Im an alien\n",
       "1           2  @ID_AA_Carmack Ray tracing on Cyberpunk with H...\n",
       "2           3                @joerogan @Spotify Great interview!\n",
       "3           4                    @gtera27 Doge is underestimated\n",
       "4           5  @teslacn Congratulations Tesla China for amazi...\n",
       "5           6  Happy New Year of the Ox! https://t.co/9WFKMYu2oj\n",
       "6           7  Frodo was the underdoge,\\nAll thought he would...\n",
       "7           8     @OwenSparks_ @flcnhvy @anonyx10 Haha thanks :)\n",
       "8           9  @flcnhvy @anonyx10 Indeed! Tweets definitely d...\n",
       "9          10   The most entertaining outcome is the most likely"
      ]
     },
     "execution_count": 2,
     "metadata": {},
     "output_type": "execute_result"
    }
   ],
   "source": [
    "data = pd.read_csv(\"Elon_musk.csv\",encoding = \"ISO-8859-1\")\n",
    "data.head(10)"
   ]
  },
  {
   "cell_type": "markdown",
   "id": "e4cf7acb",
   "metadata": {},
   "source": [
    "## <span style='background :white' > `EDA` </span>"
   ]
  },
  {
   "cell_type": "code",
   "execution_count": 3,
   "id": "a051c211",
   "metadata": {},
   "outputs": [
    {
     "name": "stdout",
     "output_type": "stream",
     "text": [
      "<class 'pandas.core.frame.DataFrame'>\n",
      "RangeIndex: 1999 entries, 0 to 1998\n",
      "Data columns (total 2 columns):\n",
      " #   Column      Non-Null Count  Dtype \n",
      "---  ------      --------------  ----- \n",
      " 0   Unnamed: 0  1999 non-null   int64 \n",
      " 1   Text        1999 non-null   object\n",
      "dtypes: int64(1), object(1)\n",
      "memory usage: 31.4+ KB\n"
     ]
    }
   ],
   "source": [
    "data.info()"
   ]
  },
  {
   "cell_type": "markdown",
   "id": "b7845ea1",
   "metadata": {},
   "source": [
    "# <span style='background :yellow' >PREPROCESSING DATA</span>"
   ]
  },
  {
   "cell_type": "markdown",
   "id": "aace0381",
   "metadata": {},
   "source": [
    "## `Removing Puncution, Stopwords, Upper Case, etc.`"
   ]
  },
  {
   "cell_type": "code",
   "execution_count": 4,
   "id": "df95ba3c",
   "metadata": {},
   "outputs": [],
   "source": [
    "def clean_text(text):\n",
    "    '''Make text lowercase, remove text in square brackets, remove punctuation and remove words containing numbers.'''\n",
    "    text = text.lower()\n",
    "    text = re.sub('\\[.*?\\]','', text)\n",
    "    text = re.sub('[%s]' % re.escape(string.punctuation), '', text)\n",
    "    text = re.sub('\\w*\\d\\w*', '', text)\n",
    "    text = re.sub(\"[0-9\" \"]+\",\" \", text)\n",
    "    text = re.sub('[''\"\"...]', '',text)\n",
    "    return text\n",
    "clean = lambda x: clean_text(x)"
   ]
  },
  {
   "cell_type": "markdown",
   "id": "7e8e0937",
   "metadata": {},
   "source": [
    "## `Clean Data`"
   ]
  },
  {
   "cell_type": "code",
   "execution_count": 5,
   "id": "42afbc65",
   "metadata": {},
   "outputs": [
    {
     "data": {
      "text/plain": [
       "0                                            im an alien\n",
       "1       idaacarmack ray tracing on cyberpunk with hdr ...\n",
       "2                        joerogan spotify great interview\n",
       "3                                  doge is underestimated\n",
       "4       teslacn congratulations tesla china for amazin...\n",
       "                              ...                        \n",
       "1994    flcnhvy true it sounds so surreal but the nega...\n",
       "1995    ppathole make sure to read ur terms amp condit...\n",
       "1996                    teslagong ppathole samwise gamgee\n",
       "1997                   ppathole altho dumb and dumber is \n",
       "1998                              progress update august \n",
       "Name: Text, Length: 1999, dtype: object"
      ]
     },
     "execution_count": 5,
     "metadata": {},
     "output_type": "execute_result"
    }
   ],
   "source": [
    "data['Text'] = data.Text.apply(clean)\n",
    "data.Text"
   ]
  },
  {
   "cell_type": "code",
   "execution_count": 6,
   "id": "71556d35",
   "metadata": {},
   "outputs": [
    {
     "data": {
      "text/plain": [
       "the               486\n",
       "to                400\n",
       "a                 355\n",
       "is                355\n",
       "of                315\n",
       "spacex            239\n",
       "in                219\n",
       "amp               218\n",
       "for               194\n",
       "tesla             166\n",
       "will              165\n",
       "be                157\n",
       "erdayastronaut    142\n",
       "this              140\n",
       "it                137\n",
       "we                135\n",
       "on                129\n",
       "that              127\n",
       "rt                127\n",
       "but               126\n",
       "dtype: int64"
      ]
     },
     "execution_count": 6,
     "metadata": {},
     "output_type": "execute_result"
    }
   ],
   "source": [
    "freq = pd.Series(' '.join(data['Text']).split()).value_counts()[:20]\n",
    "freq"
   ]
  },
  {
   "cell_type": "markdown",
   "id": "3d637f3c",
   "metadata": {},
   "source": [
    "## `Removing StopWords`"
   ]
  },
  {
   "cell_type": "code",
   "execution_count": 7,
   "id": "e8720111",
   "metadata": {},
   "outputs": [],
   "source": [
    "from nltk.corpus import stopwords\n",
    "stop = stopwords.words('english')\n",
    "data['text'] = data['Text'].apply(lambda x: \" \".join(x for x in x.split() if x not in stop))"
   ]
  },
  {
   "cell_type": "markdown",
   "id": "d544c711",
   "metadata": {},
   "source": [
    "## `Let's calculate subjectivity and Polarity`"
   ]
  },
  {
   "cell_type": "code",
   "execution_count": 8,
   "id": "e0f28922",
   "metadata": {},
   "outputs": [
    {
     "data": {
      "text/html": [
       "<div>\n",
       "<style scoped>\n",
       "    .dataframe tbody tr th:only-of-type {\n",
       "        vertical-align: middle;\n",
       "    }\n",
       "\n",
       "    .dataframe tbody tr th {\n",
       "        vertical-align: top;\n",
       "    }\n",
       "\n",
       "    .dataframe thead th {\n",
       "        text-align: right;\n",
       "    }\n",
       "</style>\n",
       "<table border=\"1\" class=\"dataframe\">\n",
       "  <thead>\n",
       "    <tr style=\"text-align: right;\">\n",
       "      <th></th>\n",
       "      <th>Unnamed: 0</th>\n",
       "      <th>Text</th>\n",
       "      <th>text</th>\n",
       "      <th>Subjectivity</th>\n",
       "      <th>Polarity</th>\n",
       "    </tr>\n",
       "  </thead>\n",
       "  <tbody>\n",
       "    <tr>\n",
       "      <th>0</th>\n",
       "      <td>1</td>\n",
       "      <td>im an alien</td>\n",
       "      <td>im alien</td>\n",
       "      <td>0.750000</td>\n",
       "      <td>-0.250000</td>\n",
       "    </tr>\n",
       "    <tr>\n",
       "      <th>1</th>\n",
       "      <td>2</td>\n",
       "      <td>idaacarmack ray tracing on cyberpunk with hdr ...</td>\n",
       "      <td>idaacarmack ray tracing cyberpunk hdr nextleve...</td>\n",
       "      <td>0.000000</td>\n",
       "      <td>0.000000</td>\n",
       "    </tr>\n",
       "    <tr>\n",
       "      <th>2</th>\n",
       "      <td>3</td>\n",
       "      <td>joerogan spotify great interview</td>\n",
       "      <td>joerogan spotify great interview</td>\n",
       "      <td>0.750000</td>\n",
       "      <td>0.800000</td>\n",
       "    </tr>\n",
       "    <tr>\n",
       "      <th>3</th>\n",
       "      <td>4</td>\n",
       "      <td>doge is underestimated</td>\n",
       "      <td>doge underestimated</td>\n",
       "      <td>0.000000</td>\n",
       "      <td>0.000000</td>\n",
       "    </tr>\n",
       "    <tr>\n",
       "      <th>4</th>\n",
       "      <td>5</td>\n",
       "      <td>teslacn congratulations tesla china for amazin...</td>\n",
       "      <td>teslacn congratulations tesla china amazing ex...</td>\n",
       "      <td>0.366667</td>\n",
       "      <td>0.275000</td>\n",
       "    </tr>\n",
       "    <tr>\n",
       "      <th>5</th>\n",
       "      <td>6</td>\n",
       "      <td>happy new year of the ox</td>\n",
       "      <td>happy new year ox</td>\n",
       "      <td>0.727273</td>\n",
       "      <td>0.468182</td>\n",
       "    </tr>\n",
       "    <tr>\n",
       "      <th>6</th>\n",
       "      <td>7</td>\n",
       "      <td>frodo was the underdoge\\nall thought he would ...</td>\n",
       "      <td>frodo underdoge thought would fail httpstcozgx...</td>\n",
       "      <td>0.400000</td>\n",
       "      <td>0.000000</td>\n",
       "    </tr>\n",
       "    <tr>\n",
       "      <th>7</th>\n",
       "      <td>8</td>\n",
       "      <td>owensparks flcnhvy  haha thanks</td>\n",
       "      <td>owensparks flcnhvy haha thanks</td>\n",
       "      <td>0.250000</td>\n",
       "      <td>0.200000</td>\n",
       "    </tr>\n",
       "    <tr>\n",
       "      <th>8</th>\n",
       "      <td>9</td>\n",
       "      <td>flcnhvy  indeed tweets definitely do not repre...</td>\n",
       "      <td>flcnhvy indeed tweets definitely represent rea...</td>\n",
       "      <td>0.500000</td>\n",
       "      <td>0.000000</td>\n",
       "    </tr>\n",
       "    <tr>\n",
       "      <th>9</th>\n",
       "      <td>10</td>\n",
       "      <td>the most entertaining outcome is the most likely</td>\n",
       "      <td>entertaining outcome likely</td>\n",
       "      <td>0.675000</td>\n",
       "      <td>0.375000</td>\n",
       "    </tr>\n",
       "  </tbody>\n",
       "</table>\n",
       "</div>"
      ],
      "text/plain": [
       "   Unnamed: 0                                               Text  \\\n",
       "0           1                                       im an alien   \n",
       "1           2  idaacarmack ray tracing on cyberpunk with hdr ...   \n",
       "2           3                   joerogan spotify great interview   \n",
       "3           4                             doge is underestimated   \n",
       "4           5  teslacn congratulations tesla china for amazin...   \n",
       "5           6                          happy new year of the ox    \n",
       "6           7  frodo was the underdoge\\nall thought he would ...   \n",
       "7           8                   owensparks flcnhvy  haha thanks    \n",
       "8           9  flcnhvy  indeed tweets definitely do not repre...   \n",
       "9          10   the most entertaining outcome is the most likely   \n",
       "\n",
       "                                                text  Subjectivity  Polarity  \n",
       "0                                          im alien      0.750000 -0.250000  \n",
       "1  idaacarmack ray tracing cyberpunk hdr nextleve...      0.000000  0.000000  \n",
       "2                   joerogan spotify great interview      0.750000  0.800000  \n",
       "3                                doge underestimated      0.000000  0.000000  \n",
       "4  teslacn congratulations tesla china amazing ex...      0.366667  0.275000  \n",
       "5                                  happy new year ox      0.727273  0.468182  \n",
       "6  frodo underdoge thought would fail httpstcozgx...      0.400000  0.000000  \n",
       "7                     owensparks flcnhvy haha thanks      0.250000  0.200000  \n",
       "8  flcnhvy indeed tweets definitely represent rea...      0.500000  0.000000  \n",
       "9                        entertaining outcome likely      0.675000  0.375000  "
      ]
     },
     "execution_count": 8,
     "metadata": {},
     "output_type": "execute_result"
    }
   ],
   "source": [
    "# function for subjectivity\n",
    "def calc_subj(Text):\n",
    "    return TextBlob(Text).sentiment.subjectivity\n",
    " \n",
    "# function for Polarity\n",
    "def calc_pola(Text):\n",
    "    return TextBlob(Text).sentiment.polarity\n",
    " \n",
    "data['Subjectivity'] = data.Text.apply(calc_subj)\n",
    "data['Polarity'] = data.Text.apply(calc_pola)\n",
    "1\n",
    "2\n",
    "data.head(10)"
   ]
  },
  {
   "cell_type": "markdown",
   "id": "067cf02b",
   "metadata": {},
   "source": [
    "## `Let's classify these tweets based on their sentiment(polarity)`"
   ]
  },
  {
   "cell_type": "code",
   "execution_count": 9,
   "id": "ad684636",
   "metadata": {},
   "outputs": [
    {
     "data": {
      "text/html": [
       "<div>\n",
       "<style scoped>\n",
       "    .dataframe tbody tr th:only-of-type {\n",
       "        vertical-align: middle;\n",
       "    }\n",
       "\n",
       "    .dataframe tbody tr th {\n",
       "        vertical-align: top;\n",
       "    }\n",
       "\n",
       "    .dataframe thead th {\n",
       "        text-align: right;\n",
       "    }\n",
       "</style>\n",
       "<table border=\"1\" class=\"dataframe\">\n",
       "  <thead>\n",
       "    <tr style=\"text-align: right;\">\n",
       "      <th></th>\n",
       "      <th>Unnamed: 0</th>\n",
       "      <th>Text</th>\n",
       "      <th>text</th>\n",
       "      <th>Subjectivity</th>\n",
       "      <th>Polarity</th>\n",
       "      <th>Sentiment</th>\n",
       "    </tr>\n",
       "  </thead>\n",
       "  <tbody>\n",
       "    <tr>\n",
       "      <th>0</th>\n",
       "      <td>1</td>\n",
       "      <td>im an alien</td>\n",
       "      <td>im alien</td>\n",
       "      <td>0.750000</td>\n",
       "      <td>-0.250000</td>\n",
       "      <td>Negative</td>\n",
       "    </tr>\n",
       "    <tr>\n",
       "      <th>1</th>\n",
       "      <td>2</td>\n",
       "      <td>idaacarmack ray tracing on cyberpunk with hdr ...</td>\n",
       "      <td>idaacarmack ray tracing cyberpunk hdr nextleve...</td>\n",
       "      <td>0.000000</td>\n",
       "      <td>0.000000</td>\n",
       "      <td>Netural</td>\n",
       "    </tr>\n",
       "    <tr>\n",
       "      <th>2</th>\n",
       "      <td>3</td>\n",
       "      <td>joerogan spotify great interview</td>\n",
       "      <td>joerogan spotify great interview</td>\n",
       "      <td>0.750000</td>\n",
       "      <td>0.800000</td>\n",
       "      <td>Positive</td>\n",
       "    </tr>\n",
       "    <tr>\n",
       "      <th>3</th>\n",
       "      <td>4</td>\n",
       "      <td>doge is underestimated</td>\n",
       "      <td>doge underestimated</td>\n",
       "      <td>0.000000</td>\n",
       "      <td>0.000000</td>\n",
       "      <td>Netural</td>\n",
       "    </tr>\n",
       "    <tr>\n",
       "      <th>4</th>\n",
       "      <td>5</td>\n",
       "      <td>teslacn congratulations tesla china for amazin...</td>\n",
       "      <td>teslacn congratulations tesla china amazing ex...</td>\n",
       "      <td>0.366667</td>\n",
       "      <td>0.275000</td>\n",
       "      <td>Positive</td>\n",
       "    </tr>\n",
       "    <tr>\n",
       "      <th>5</th>\n",
       "      <td>6</td>\n",
       "      <td>happy new year of the ox</td>\n",
       "      <td>happy new year ox</td>\n",
       "      <td>0.727273</td>\n",
       "      <td>0.468182</td>\n",
       "      <td>Positive</td>\n",
       "    </tr>\n",
       "    <tr>\n",
       "      <th>6</th>\n",
       "      <td>7</td>\n",
       "      <td>frodo was the underdoge\\nall thought he would ...</td>\n",
       "      <td>frodo underdoge thought would fail httpstcozgx...</td>\n",
       "      <td>0.400000</td>\n",
       "      <td>0.000000</td>\n",
       "      <td>Netural</td>\n",
       "    </tr>\n",
       "    <tr>\n",
       "      <th>7</th>\n",
       "      <td>8</td>\n",
       "      <td>owensparks flcnhvy  haha thanks</td>\n",
       "      <td>owensparks flcnhvy haha thanks</td>\n",
       "      <td>0.250000</td>\n",
       "      <td>0.200000</td>\n",
       "      <td>Positive</td>\n",
       "    </tr>\n",
       "    <tr>\n",
       "      <th>8</th>\n",
       "      <td>9</td>\n",
       "      <td>flcnhvy  indeed tweets definitely do not repre...</td>\n",
       "      <td>flcnhvy indeed tweets definitely represent rea...</td>\n",
       "      <td>0.500000</td>\n",
       "      <td>0.000000</td>\n",
       "      <td>Netural</td>\n",
       "    </tr>\n",
       "    <tr>\n",
       "      <th>9</th>\n",
       "      <td>10</td>\n",
       "      <td>the most entertaining outcome is the most likely</td>\n",
       "      <td>entertaining outcome likely</td>\n",
       "      <td>0.675000</td>\n",
       "      <td>0.375000</td>\n",
       "      <td>Positive</td>\n",
       "    </tr>\n",
       "  </tbody>\n",
       "</table>\n",
       "</div>"
      ],
      "text/plain": [
       "   Unnamed: 0                                               Text  \\\n",
       "0           1                                       im an alien   \n",
       "1           2  idaacarmack ray tracing on cyberpunk with hdr ...   \n",
       "2           3                   joerogan spotify great interview   \n",
       "3           4                             doge is underestimated   \n",
       "4           5  teslacn congratulations tesla china for amazin...   \n",
       "5           6                          happy new year of the ox    \n",
       "6           7  frodo was the underdoge\\nall thought he would ...   \n",
       "7           8                   owensparks flcnhvy  haha thanks    \n",
       "8           9  flcnhvy  indeed tweets definitely do not repre...   \n",
       "9          10   the most entertaining outcome is the most likely   \n",
       "\n",
       "                                                text  Subjectivity  Polarity  \\\n",
       "0                                          im alien      0.750000 -0.250000   \n",
       "1  idaacarmack ray tracing cyberpunk hdr nextleve...      0.000000  0.000000   \n",
       "2                   joerogan spotify great interview      0.750000  0.800000   \n",
       "3                                doge underestimated      0.000000  0.000000   \n",
       "4  teslacn congratulations tesla china amazing ex...      0.366667  0.275000   \n",
       "5                                  happy new year ox      0.727273  0.468182   \n",
       "6  frodo underdoge thought would fail httpstcozgx...      0.400000  0.000000   \n",
       "7                     owensparks flcnhvy haha thanks      0.250000  0.200000   \n",
       "8  flcnhvy indeed tweets definitely represent rea...      0.500000  0.000000   \n",
       "9                        entertaining outcome likely      0.675000  0.375000   \n",
       "\n",
       "  Sentiment  \n",
       "0  Negative  \n",
       "1   Netural  \n",
       "2  Positive  \n",
       "3   Netural  \n",
       "4  Positive  \n",
       "5  Positive  \n",
       "6   Netural  \n",
       "7  Positive  \n",
       "8   Netural  \n",
       "9  Positive  "
      ]
     },
     "execution_count": 9,
     "metadata": {},
     "output_type": "execute_result"
    }
   ],
   "source": [
    "def sentiment(polarity):\n",
    "    result = ''\n",
    "    if polarity > 0:\n",
    "        result = 'Positive'\n",
    "    elif polarity == 0:\n",
    "        result = 'Netural'\n",
    "    else:\n",
    "        result = 'Negative'\n",
    "    return result\n",
    " \n",
    "data['Sentiment'] = data.Polarity.apply(sentiment)\n",
    "1\n",
    "data.head(10)"
   ]
  },
  {
   "cell_type": "markdown",
   "id": "dd00a54a",
   "metadata": {},
   "source": [
    "## `Ratio of sentiment`"
   ]
  },
  {
   "cell_type": "code",
   "execution_count": 10,
   "id": "41620203",
   "metadata": {},
   "outputs": [
    {
     "data": {
      "image/png": "[encoded data removed]",
      "text/plain": [
       "<Figure size 720x504 with 1 Axes>"
      ]
     },
     "metadata": {
      "needs_background": "light"
     },
     "output_type": "display_data"
    }
   ],
   "source": [
    "fig=plt.figure(figsize=(10,7))\n",
    "data.Sentiment.value_counts().plot(kind='bar', color='green')\n",
    "plt.title('Sentiment Classification')\n",
    "plt.show()"
   ]
  },
  {
   "cell_type": "code",
   "execution_count": 11,
   "id": "e2c3d1ee",
   "metadata": {},
   "outputs": [
    {
     "data": {
      "text/plain": [
       "Text(0, 0.5, 'Subjectivity')"
      ]
     },
     "execution_count": 11,
     "metadata": {},
     "output_type": "execute_result"
    },
    {
     "data": {
      "image/png": "[encoded data removed]",
      "text/plain": [
       "<Figure size 720x504 with 1 Axes>"
      ]
     },
     "metadata": {
      "needs_background": "light"
     },
     "output_type": "display_data"
    }
   ],
   "source": [
    "fig=plt.figure(figsize=(10,7))\n",
    "plt.scatter(data.Polarity, data.Subjectivity, color='brown')\n",
    "plt.title('Sentiment Analysis')\n",
    "plt.xlabel('Polarity')\n",
    "plt.ylabel('Subjectivity')"
   ]
  },
  {
   "cell_type": "markdown",
   "id": "661ce226",
   "metadata": {},
   "source": [
    "## `Calculating percentage for different sentiment's class`"
   ]
  },
  {
   "cell_type": "code",
   "execution_count": 12,
   "id": "68239ec9",
   "metadata": {},
   "outputs": [
    {
     "data": {
      "text/html": [
       "<div>\n",
       "<style scoped>\n",
       "    .dataframe tbody tr th:only-of-type {\n",
       "        vertical-align: middle;\n",
       "    }\n",
       "\n",
       "    .dataframe tbody tr th {\n",
       "        vertical-align: top;\n",
       "    }\n",
       "\n",
       "    .dataframe thead th {\n",
       "        text-align: right;\n",
       "    }\n",
       "</style>\n",
       "<table border=\"1\" class=\"dataframe\">\n",
       "  <thead>\n",
       "    <tr style=\"text-align: right;\">\n",
       "      <th></th>\n",
       "      <th>Sentiment</th>\n",
       "      <th>Total</th>\n",
       "    </tr>\n",
       "  </thead>\n",
       "  <tbody>\n",
       "    <tr>\n",
       "      <th>Netural</th>\n",
       "      <td>45.072536</td>\n",
       "      <td>901</td>\n",
       "    </tr>\n",
       "    <tr>\n",
       "      <th>Positive</th>\n",
       "      <td>44.072036</td>\n",
       "      <td>881</td>\n",
       "    </tr>\n",
       "    <tr>\n",
       "      <th>Negative</th>\n",
       "      <td>10.855428</td>\n",
       "      <td>217</td>\n",
       "    </tr>\n",
       "  </tbody>\n",
       "</table>\n",
       "</div>"
      ],
      "text/plain": [
       "          Sentiment  Total\n",
       "Netural   45.072536    901\n",
       "Positive  44.072036    881\n",
       "Negative  10.855428    217"
      ]
     },
     "execution_count": 12,
     "metadata": {},
     "output_type": "execute_result"
    }
   ],
   "source": [
    "Data_sentiment = pd.DataFrame(data.Sentiment.value_counts(normalize=True)*100)\n",
    " \n",
    "Data_sentiment['Total'] = data.Sentiment.value_counts()\n",
    "\n",
    "Data_sentiment"
   ]
  }
 ],
 "metadata": {
  "kernelspec": {
   "display_name": "Python 3 (ipykernel)",
   "language": "python",
   "name": "python3"
  },
  "language_info": {
   "codemirror_mode": {
    "name": "ipython",
    "version": 3
   },
   "file_extension": ".py",
   "mimetype": "text/x-python",
   "name": "python",
   "nbconvert_exporter": "python",
   "pygments_lexer": "ipython3",
   "version": "3.9.7"
  }
 },
 "nbformat": 4,
 "nbformat_minor": 5
}
